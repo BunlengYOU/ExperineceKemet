{
 "cells": [
  {
   "cell_type": "markdown",
   "metadata": {},
   "source": [
    "# Setup telegram"
   ]
  },
  {
   "cell_type": "code",
   "execution_count": 1,
   "metadata": {},
   "outputs": [],
   "source": [
    "from telegram_bot_token import HTTP_TOKEN\n",
    "import json\n",
    "from pprint import PrettyPrinter\n",
    "import telegram\n",
    "pp = PrettyPrinter(indent=2)"
   ]
  },
  {
   "cell_type": "code",
   "execution_count": 2,
   "metadata": {},
   "outputs": [],
   "source": [
    "bot = telegram.Bot(HTTP_TOKEN)\n",
    "telegram_updates = bot.get_updates()\n",
    "telegram_update = telegram_updates[0]"
   ]
  },
  {
   "cell_type": "code",
   "execution_count": 3,
   "metadata": {},
   "outputs": [],
   "source": [
    "def notify_via_telegram():\n",
    "    telegram_update.message.reply_text(\"Too much vibration is detected. Please watch have a look!\")"
   ]
  },
  {
   "cell_type": "code",
   "execution_count": 4,
   "metadata": {},
   "outputs": [],
   "source": [
    "notify_via_telegram()"
   ]
  },
  {
   "cell_type": "markdown",
   "metadata": {},
   "source": [
    "# Setup BLE"
   ]
  },
  {
   "cell_type": "code",
   "execution_count": 5,
   "metadata": {},
   "outputs": [],
   "source": [
    "import sys\n",
    "from gattlib import GATTRequester\n",
    "st_addres= \"D5:C9:57:C2:25:7B\"\n",
    "\n",
    "requester = GATTRequester(st_addres, False)\n",
    "requester.connect(True, channel_type=\"random\")"
   ]
  },
  {
   "cell_type": "code",
   "execution_count": 6,
   "metadata": {},
   "outputs": [
    {
     "data": {
      "text/plain": [
       "[{'uuid': '00001801-0000-1000-8000-00805f9b34fb', 'start': 1, 'end': 4},\n",
       " {'uuid': '00001800-0000-1000-8000-00805f9b34fb', 'start': 5, 'end': 11},\n",
       " {'uuid': '00000000-0003-11e1-9ab4-0002a5d5c51b', 'start': 12, 'end': 17}]"
      ]
     },
     "execution_count": 6,
     "metadata": {},
     "output_type": "execute_result"
    }
   ],
   "source": [
    "requester.discover_primary()"
   ]
  },
  {
   "cell_type": "code",
   "execution_count": 7,
   "metadata": {},
   "outputs": [
    {
     "data": {
      "text/plain": [
       "[{'uuid': '00002a05-0000-1000-8000-00805f9b34fb',\n",
       "  'handle': 2,\n",
       "  'properties': 32,\n",
       "  'value_handle': 3},\n",
       " {'uuid': '00002a00-0000-1000-8000-00805f9b34fb',\n",
       "  'handle': 6,\n",
       "  'properties': 78,\n",
       "  'value_handle': 7},\n",
       " {'uuid': '00002a01-0000-1000-8000-00805f9b34fb',\n",
       "  'handle': 8,\n",
       "  'properties': 78,\n",
       "  'value_handle': 9},\n",
       " {'uuid': '00002a04-0000-1000-8000-00805f9b34fb',\n",
       "  'handle': 10,\n",
       "  'properties': 2,\n",
       "  'value_handle': 11},\n",
       " {'uuid': '20000000-0001-11e1-ac36-0002a5d5c51b',\n",
       "  'handle': 13,\n",
       "  'properties': 6,\n",
       "  'value_handle': 14},\n",
       " {'uuid': '21000000-0001-11e1-ac36-0002a5d5c51b',\n",
       "  'handle': 15,\n",
       "  'properties': 18,\n",
       "  'value_handle': 16}]"
      ]
     },
     "execution_count": 7,
     "metadata": {},
     "output_type": "execute_result"
    }
   ],
   "source": [
    "characteristics = requester.discover_characteristics()\n",
    "characteristics"
   ]
  },
  {
   "cell_type": "code",
   "execution_count": null,
   "metadata": {},
   "outputs": [],
   "source": [
    "hex(characteristics[-1]['properties'])"
   ]
  },
  {
   "cell_type": "code",
   "execution_count": 8,
   "metadata": {},
   "outputs": [
    {
     "data": {
      "text/plain": [
       "True"
      ]
     },
     "execution_count": 8,
     "metadata": {},
     "output_type": "execute_result"
    }
   ],
   "source": [
    "characteristics[-1]['properties'] & 0x10 == 0x10"
   ]
  },
  {
   "cell_type": "markdown",
   "metadata": {},
   "source": [
    "![alt text](Properties.png \"Title\")"
   ]
  },
  {
   "cell_type": "code",
   "execution_count": 9,
   "metadata": {},
   "outputs": [],
   "source": [
    "requester.disconnect()"
   ]
  },
  {
   "cell_type": "code",
   "execution_count": 10,
   "metadata": {},
   "outputs": [],
   "source": [
    "class Requester(GATTRequester):\n",
    "    def on_notification(self, handle, data):\n",
    "        if handle == (self.notification_hanlde - 1):\n",
    "            print('\"Too Much Vibration\" event is recieved from Nucleo via BLE.')\n",
    "            notify_via_telegram()\n",
    "    \n",
    "    def register_for_notification(self):\n",
    "        self.notification_hanlde = 0\n",
    "        for char in characteristics:\n",
    "            if char['uuid'] == '21000000-0001-11e1-ac36-0002a5d5c51b' and char['properties'] & 0x10 == 0x10:\n",
    "                self.notification_hanlde = char['value_handle']+1\n",
    "        self.write_by_handle(self.notification_hanlde, b\"\\x01\\x00\")\n",
    "    \n",
    "    def unregister_for_notification(self):\n",
    "        self.write_by_handle(self.notification_hanlde, b\"\\x00\\x00\")"
   ]
  },
  {
   "cell_type": "code",
   "execution_count": 11,
   "metadata": {},
   "outputs": [],
   "source": [
    "requester = Requester(st_addres, False)\n",
    "requester.connect(True, channel_type=\"random\")"
   ]
  },
  {
   "cell_type": "code",
   "execution_count": 12,
   "metadata": {},
   "outputs": [
    {
     "name": "stdout",
     "output_type": "stream",
     "text": [
      "\"Too Much Vibration\" event is recieved from Nucleo via BLE.\n",
      "\"Too Much Vibration\" event is recieved from Nucleo via BLE.\n",
      "\"Too Much Vibration\" event is recieved from Nucleo via BLE.\n",
      "\"Too Much Vibration\" event is recieved from Nucleo via BLE.\n",
      "\"Too Much Vibration\" event is recieved from Nucleo via BLE.\n"
     ]
    }
   ],
   "source": [
    "requester.register_for_notification()"
   ]
  },
  {
   "cell_type": "code",
   "execution_count": 13,
   "metadata": {
    "scrolled": true
   },
   "outputs": [
    {
     "data": {
      "text/plain": [
       "17"
      ]
     },
     "execution_count": 13,
     "metadata": {},
     "output_type": "execute_result"
    }
   ],
   "source": [
    "requester.notification_hanlde"
   ]
  },
  {
   "cell_type": "code",
   "execution_count": 14,
   "metadata": {},
   "outputs": [],
   "source": [
    "requester.unregister_for_notification()\n",
    "requester.disconnect()"
   ]
  }
 ],
 "metadata": {
  "kernelspec": {
   "display_name": "Python 3",
   "language": "python",
   "name": "python3"
  },
  "language_info": {
   "codemirror_mode": {
    "name": "ipython",
    "version": 3
   },
   "file_extension": ".py",
   "mimetype": "text/x-python",
   "name": "python",
   "nbconvert_exporter": "python",
   "pygments_lexer": "ipython3",
   "version": "3.7.8"
  }
 },
 "nbformat": 4,
 "nbformat_minor": 4
}
