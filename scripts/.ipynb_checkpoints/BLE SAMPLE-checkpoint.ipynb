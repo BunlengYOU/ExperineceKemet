{
 "cells": [
  {
   "cell_type": "markdown",
   "metadata": {},
   "source": [
    "# using gattlib"
   ]
  },
  {
   "cell_type": "code",
   "execution_count": 1,
   "metadata": {},
   "outputs": [],
   "source": [
    "import sys\n",
    "from gattlib import GATTRequester\n",
    "st_addres= \"D5:C9:57:C2:25:7B\""
   ]
  },
  {
   "cell_type": "code",
   "execution_count": 2,
   "metadata": {},
   "outputs": [],
   "source": [
    "requester = GATTRequester(st_addres, False)\n",
    "requester.connect(True, channel_type=\"random\")"
   ]
  },
  {
   "cell_type": "code",
   "execution_count": 3,
   "metadata": {},
   "outputs": [
    {
     "data": {
      "text/plain": [
       "[{'uuid': '00001801-0000-1000-8000-00805f9b34fb', 'start': 1, 'end': 4},\n",
       " {'uuid': '00001800-0000-1000-8000-00805f9b34fb', 'start': 5, 'end': 11},\n",
       " {'uuid': '00000000-0001-11e1-9ab4-0002a5d5c51b', 'start': 12, 'end': 18},\n",
       " {'uuid': '00000000-0002-11e1-9ab4-0002a5d5c51b', 'start': 28, 'end': 31},\n",
       " {'uuid': '00000000-0003-11e1-9ab4-0002a5d5c51b', 'start': 32, 'end': 35}]"
      ]
     },
     "execution_count": 3,
     "metadata": {},
     "output_type": "execute_result"
    }
   ],
   "source": [
    "requester.discover_primary()"
   ]
  },
  {
   "cell_type": "code",
   "execution_count": 4,
   "metadata": {},
   "outputs": [
    {
     "data": {
      "text/plain": [
       "[{'uuid': '00002a05-0000-1000-8000-00805f9b34fb',\n",
       "  'handle': 2,\n",
       "  'properties': 32,\n",
       "  'value_handle': 3},\n",
       " {'uuid': '00002a00-0000-1000-8000-00805f9b34fb',\n",
       "  'handle': 6,\n",
       "  'properties': 78,\n",
       "  'value_handle': 7},\n",
       " {'uuid': '00002a01-0000-1000-8000-00805f9b34fb',\n",
       "  'handle': 8,\n",
       "  'properties': 78,\n",
       "  'value_handle': 9},\n",
       " {'uuid': '00002a04-0000-1000-8000-00805f9b34fb',\n",
       "  'handle': 10,\n",
       "  'properties': 2,\n",
       "  'value_handle': 11},\n",
       " {'uuid': '00140000-0001-11e1-ac36-0002a5d5c51b',\n",
       "  'handle': 13,\n",
       "  'properties': 18,\n",
       "  'value_handle': 14},\n",
       " {'uuid': '00e00000-0001-11e1-ac36-0002a5d5c51b',\n",
       "  'handle': 16,\n",
       "  'properties': 16,\n",
       "  'value_handle': 17},\n",
       " {'uuid': '00000100-0001-11e1-ac36-0002a5d5c51b',\n",
       "  'handle': 29,\n",
       "  'properties': 16,\n",
       "  'value_handle': 30},\n",
       " {'uuid': '20000000-0001-11e1-ac36-0002a5d5c51b',\n",
       "  'handle': 33,\n",
       "  'properties': 22,\n",
       "  'value_handle': 34}]"
      ]
     },
     "execution_count": 4,
     "metadata": {},
     "output_type": "execute_result"
    }
   ],
   "source": [
    "characteristics = requester.discover_characteristics()\n",
    "characteristics"
   ]
  },
  {
   "cell_type": "markdown",
   "metadata": {},
   "source": [
    "![alt text](Properties.png \"Title\")"
   ]
  },
  {
   "cell_type": "code",
   "execution_count": 5,
   "metadata": {},
   "outputs": [],
   "source": [
    "def gen(x):\n",
    "    while x:\n",
    "        yield bin(x % 16)[2:].zfill(4)\n",
    "        x >>= 4\n",
    "\n",
    "def nibble(x):\n",
    "    return '0b'+'_'.join(list(gen(x))[::-1])"
   ]
  },
  {
   "cell_type": "code",
   "execution_count": 6,
   "metadata": {
    "scrolled": false
   },
   "outputs": [
    {
     "data": {
      "text/plain": [
       "'0b0001_0100_0000_0000_0000_0000'"
      ]
     },
     "execution_count": 6,
     "metadata": {},
     "output_type": "execute_result"
    }
   ],
   "source": [
    "nibble(0x00140000)"
   ]
  },
  {
   "cell_type": "code",
   "execution_count": 7,
   "metadata": {},
   "outputs": [
    {
     "data": {
      "text/plain": [
       "'0b1110_0000_0000_0000_0000_0000'"
      ]
     },
     "execution_count": 7,
     "metadata": {},
     "output_type": "execute_result"
    }
   ],
   "source": [
    "nibble(0x00e00000)"
   ]
  },
  {
   "cell_type": "code",
   "execution_count": 8,
   "metadata": {},
   "outputs": [
    {
     "data": {
      "text/plain": [
       "16"
      ]
     },
     "execution_count": 8,
     "metadata": {},
     "output_type": "execute_result"
    }
   ],
   "source": [
    "0x0010"
   ]
  },
  {
   "cell_type": "code",
   "execution_count": 9,
   "metadata": {},
   "outputs": [],
   "source": [
    "def print_handle_14(d):\n",
    "    print('d:', [hex(di) for di in d])\n",
    "    tick = int.from_bytes(d[:2], \"little\")\n",
    "    print(\"tick:\",tick)\n",
    "    pressure = float(int.from_bytes(d[2:6], \"little\"))/100\n",
    "    print(\"pressure:\",pressure)\n",
    "    temprature = float(int.from_bytes(d[6:], \"little\"))/10.0\n",
    "    print(\"temprature:\",temprature)"
   ]
  },
  {
   "cell_type": "code",
   "execution_count": 10,
   "metadata": {},
   "outputs": [
    {
     "name": "stdout",
     "output_type": "stream",
     "text": [
      "d: ['0x5d', '0x70', '0x0', '0xa9', '0x1', '0x0', '0x2c', '0x1']\n",
      "tick: 28765\n",
      "pressure: 1088.0\n",
      "temprature: 30.0\n"
     ]
    }
   ],
   "source": [
    "# read data diraectly\n",
    "data = requester.read_by_handle(0x000e)\n",
    "print_handle_14(data[0])"
   ]
  },
  {
   "cell_type": "code",
   "execution_count": 11,
   "metadata": {},
   "outputs": [
    {
     "data": {
      "text/plain": [
       "[b'\\x13']"
      ]
     },
     "execution_count": 11,
     "metadata": {},
     "output_type": "execute_result"
    }
   ],
   "source": [
    "# start notification\n",
    "requester.write_by_handle(15, b\"\\x01\\x00\")"
   ]
  },
  {
   "cell_type": "code",
   "execution_count": 12,
   "metadata": {},
   "outputs": [
    {
     "data": {
      "text/plain": [
       "[b'\\x13']"
      ]
     },
     "execution_count": 12,
     "metadata": {},
     "output_type": "execute_result"
    }
   ],
   "source": [
    "# stop notification\n",
    "requester.write_by_handle(15, b\"\\x00\\x00\")"
   ]
  },
  {
   "cell_type": "code",
   "execution_count": 13,
   "metadata": {},
   "outputs": [],
   "source": [
    "requester.disconnect()\n",
    "del requester"
   ]
  },
  {
   "cell_type": "markdown",
   "metadata": {},
   "source": [
    "## using notifications to read data"
   ]
  },
  {
   "cell_type": "code",
   "execution_count": 14,
   "metadata": {},
   "outputs": [
    {
     "name": "stdout",
     "output_type": "stream",
     "text": [
      "Connecting... OK!\n",
      "\n",
      "This is a bit tricky. You need to make your device to send\n",
      "some notification. I'll wait...\n",
      "-------------------------------------------\n",
      "- notification on handle: 14\n",
      "b'\\x1b\\x0e\\x00\\x84p\\xd4\\x8e\\x01\\x006\\x01'\n",
      "d: ['0x84', '0x70', '0xd4', '0x8e', '0x1', '0x0', '0x36', '0x1']\n",
      "tick: 28804\n",
      "pressure: 1021.0\n",
      "temprature: 31.0\n",
      "-------------------------------------------\n",
      "- notification on handle: 14\n",
      "b'\\x1b\\x0e\\x00\\x91p\\x94\\x88\\x01\\x00,\\x01'\n",
      "d: ['0x91', '0x70', '0x94', '0x88', '0x1', '0x0', '0x2c', '0x1']\n",
      "tick: 28817\n",
      "pressure: 1005.0\n",
      "temprature: 30.0\n",
      "-------------------------------------------\n",
      "- notification on handle: 14\n",
      "b'\\x1b\\x0e\\x00\\x9ep0\\x88\\x01\\x00,\\x01'\n",
      "d: ['0x9e', '0x70', '0x30', '0x88', '0x1', '0x0', '0x2c', '0x1']\n",
      "tick: 28830\n",
      "pressure: 1004.0\n",
      "temprature: 30.0\n",
      "-------------------------------------------\n",
      "- notification on handle: 14\n",
      "b'\\x1b\\x0e\\x00\\xabp\\x94\\xa1\\x01\\x00\"\\x01'\n",
      "d: ['0xab', '0x70', '0x94', '0xa1', '0x1', '0x0', '0x22', '0x1']\n",
      "tick: 28843\n",
      "pressure: 1069.0\n",
      "temprature: 29.0\n",
      "-------------------------------------------\n",
      "- notification on handle: 14\n",
      "b'\\x1b\\x0e\\x00\\xb9p\\xac\\x9d\\x01\\x00,\\x01'\n",
      "d: ['0xb9', '0x70', '0xac', '0x9d', '0x1', '0x0', '0x2c', '0x1']\n",
      "tick: 28857\n",
      "pressure: 1059.0\n",
      "temprature: 30.0\n",
      "-------------------------------------------\n",
      "- notification on handle: 14\n",
      "b'\\x1b\\x0e\\x00\\xc6pl\\x97\\x01\\x00\"\\x01'\n",
      "d: ['0xc6', '0x70', '0x6c', '0x97', '0x1', '0x0', '0x22', '0x1']\n",
      "tick: 28870\n",
      "pressure: 1043.0\n",
      "temprature: 29.0\n",
      "-------------------------------------------\n",
      "- notification on handle: 14\n",
      "b'\\x1b\\x0e\\x00\\xd3pl\\x97\\x01\\x00\"\\x01'\n",
      "d: ['0xd3', '0x70', '0x6c', '0x97', '0x1', '0x0', '0x22', '0x1']\n",
      "tick: 28883\n",
      "pressure: 1043.0\n",
      "temprature: 29.0\n",
      "-------------------------------------------\n",
      "- notification on handle: 14\n",
      "b'\\x1b\\x0e\\x00\\xe0p,\\x91\\x01\\x00\\x18\\x01'\n",
      "d: ['0xe0', '0x70', '0x2c', '0x91', '0x1', '0x0', '0x18', '0x1']\n",
      "tick: 28896\n",
      "pressure: 1027.0\n",
      "temprature: 28.0\n",
      "-------------------------------------------\n",
      "- notification on handle: 14\n",
      "b'\\x1b\\x0e\\x00\\xedpD\\x8d\\x01\\x00\"\\x01'\n",
      "d: ['0xed', '0x70', '0x44', '0x8d', '0x1', '0x0', '0x22', '0x1']\n",
      "tick: 28909\n",
      "pressure: 1017.0\n",
      "temprature: 29.0\n",
      "-------------------------------------------\n",
      "- notification on handle: 14\n",
      "b'\\x1b\\x0e\\x00\\xfap\\x04\\x87\\x01\\x00\\x18\\x01'\n",
      "d: ['0xfa', '0x70', '0x4', '0x87', '0x1', '0x0', '0x18', '0x1']\n",
      "tick: 28922\n",
      "pressure: 1001.0\n",
      "temprature: 28.0\n",
      "-------------------------------------------\n",
      "- notification on handle: 14\n",
      "b'\\x1b\\x0e\\x00\\x07q\\x04\\x87\\x01\\x00\\x18\\x01'\n",
      "d: ['0x7', '0x71', '0x4', '0x87', '0x1', '0x0', '0x18', '0x1']\n",
      "tick: 28935\n",
      "pressure: 1001.0\n",
      "temprature: 28.0\n"
     ]
    }
   ],
   "source": [
    "# read using notification on handle 0x0e (or 14)\n",
    "from threading import Event\n",
    "\n",
    "\n",
    "class Requester(GATTRequester):\n",
    "    def __init__(self, wakeup, *args):\n",
    "        GATTRequester.__init__(self, *args)\n",
    "        self.wakeup = wakeup\n",
    "        self.counter = 0\n",
    "\n",
    "    def on_notification(self, handle, data):\n",
    "        print(\"-------------------------------------------\")\n",
    "        print(\"- notification on handle: {}\".format(handle))\n",
    "        print(data)\n",
    "        print_handle_14(data[-8:])\n",
    "        # wait for 10 notifications\n",
    "        self.counter = self.counter + 1\n",
    "        if self.counter > 10:\n",
    "            self.wakeup.set()\n",
    "\n",
    "\n",
    "class ReceiveNotification(object):\n",
    "    def __init__(self, address):\n",
    "        self.received = Event()\n",
    "        self.requester = Requester(self.received, address, False)\n",
    "        self.connect()\n",
    "    \n",
    "    def main(self):\n",
    "        self.wait_notification()\n",
    "\n",
    "    def connect(self):\n",
    "        print(\"Connecting...\", end=' ')\n",
    "        sys.stdout.flush()\n",
    "\n",
    "        self.requester.connect(True, channel_type=\"random\")\n",
    "        print(\"OK!\")\n",
    "\n",
    "    def wait_notification(self):\n",
    "        self.requester.write_by_handle(14+1, b\"\\x01\\x00\")\n",
    "        print(\"\\nThis is a bit tricky. You need to make your device to send\\n\"\n",
    "              \"some notification. I'll wait...\")\n",
    "        self.received.wait()\n",
    "        # turn off notification\n",
    "        self.requester.write_by_handle(14+1, b\"\\x00\\x00\")\n",
    "\n",
    "p = ReceiveNotification(st_addres)\n",
    "p.main()"
   ]
  },
  {
   "cell_type": "code",
   "execution_count": 15,
   "metadata": {},
   "outputs": [],
   "source": [
    "# p.requester.write_by_handle(14 + 1, b\"\\x00\\x00\")\n",
    "p.requester.disconnect()"
   ]
  },
  {
   "cell_type": "markdown",
   "metadata": {},
   "source": [
    "# using bluepy"
   ]
  },
  {
   "cell_type": "code",
   "execution_count": 16,
   "metadata": {},
   "outputs": [],
   "source": [
    "from bluepy import btle\n",
    "st_addres = \"D5:C9:57:C2:25:7B\"\n",
    "p = btle.Peripheral(st_addres, btle.ADDR_TYPE_RANDOM)"
   ]
  },
  {
   "cell_type": "code",
   "execution_count": 17,
   "metadata": {},
   "outputs": [
    {
     "data": {
      "text/plain": [
       "<bluepy.btle.Peripheral at 0x7fb4882e0cd0>"
      ]
     },
     "execution_count": 17,
     "metadata": {},
     "output_type": "execute_result"
    }
   ],
   "source": [
    "class MyDelegate(btle.DefaultDelegate):\n",
    "    def __init__(self):\n",
    "        btle.DefaultDelegate.__init__(self)\n",
    "\n",
    "    def handleNotification(self, cHandle, data):\n",
    "        print(\"A notification was received: {}\".format(data))\n",
    "\n",
    "\n",
    "p.setDelegate( MyDelegate() )"
   ]
  },
  {
   "cell_type": "code",
   "execution_count": 18,
   "metadata": {
    "scrolled": false
   },
   "outputs": [
    {
     "name": "stdout",
     "output_type": "stream",
     "text": [
      "A notification was received: b'Wq\\xe3\\xf7n\\r:\\xfb'\n",
      "A notification was received: b'dq\\xf0\\xf8\\x9f\\x0c\\xb8\\xfb'\n",
      "A notification was received: b'qq\\x1d\\xfa\\x05\\x0c\\xc8\\xfb'\n",
      "A notification was received: b'}q\\xb8\\xfb\\x15\\x0bI\\xfc'\n",
      "A notification was received: b'\\x8bq\\x9d\\xfcn\\n\\xbe\\xfc'\n",
      "A notification was received: b'\\x98q\\xf5\\xfd\\xd1\\t\\x05\\xfd'\n"
     ]
    },
    {
     "data": {
      "text/plain": [
       "{'rsp': ['wr']}"
      ]
     },
     "execution_count": 18,
     "metadata": {},
     "output_type": "execute_result"
    }
   ],
   "source": [
    "# Setup to turn notifications on, e.g.\n",
    "svc = p.getServiceByUUID('00000000-0002-11e1-9ab4-0002a5d5c51b')\n",
    "ch = svc.getCharacteristics()[0]\n",
    "\n",
    "# enable notification\n",
    "p.writeCharacteristic(ch.valHandle+1, b\"\\x01\\x00\")\n",
    "\n",
    "counter = 0\n",
    "\n",
    "while True:\n",
    "    if p.waitForNotifications(1.0):\n",
    "        counter += 1\n",
    "        # wait for five notification\n",
    "        if counter > 5:\n",
    "            break\n",
    "\n",
    "# disable notification\n",
    "p.writeCharacteristic(ch.valHandle+1, b\"\\x00\\x00\")"
   ]
  },
  {
   "cell_type": "code",
   "execution_count": 19,
   "metadata": {},
   "outputs": [
    {
     "data": {
      "text/plain": [
       "17"
      ]
     },
     "execution_count": 19,
     "metadata": {},
     "output_type": "execute_result"
    }
   ],
   "source": [
    "char = p.getCharacteristics(uuid = '00e00000-0001-11e1-ac36-0002a5d5c51b')[0]\n",
    "char.propertiesToString()\n",
    "char.getHandle()"
   ]
  },
  {
   "cell_type": "code",
   "execution_count": 20,
   "metadata": {},
   "outputs": [
    {
     "data": {
      "text/plain": [
       "['00000000-0002-11e1-9ab4-0002a5d5c51b']"
      ]
     },
     "execution_count": 20,
     "metadata": {},
     "output_type": "execute_result"
    }
   ],
   "source": [
    "srvs = p.getServices()\n",
    "srvs = list(srvs)\n",
    "[srv.uuid.getCommonName() for srv in srvs]"
   ]
  },
  {
   "cell_type": "code",
   "execution_count": 21,
   "metadata": {},
   "outputs": [
    {
     "data": {
      "text/plain": [
       "['00000000-0002-11e1-9ab4-0002a5d5c51b']"
      ]
     },
     "execution_count": 21,
     "metadata": {},
     "output_type": "execute_result"
    }
   ],
   "source": [
    "chars = p.getCharacteristics()\n",
    "chars = list(chars)\n",
    "[srv.uuid.getCommonName() for srv in srvs]"
   ]
  },
  {
   "cell_type": "code",
   "execution_count": 22,
   "metadata": {},
   "outputs": [],
   "source": [
    "p.disconnect()"
   ]
  }
 ],
 "metadata": {
  "kernelspec": {
   "display_name": "Python 3",
   "language": "python",
   "name": "python3"
  },
  "language_info": {
   "codemirror_mode": {
    "name": "ipython",
    "version": 3
   },
   "file_extension": ".py",
   "mimetype": "text/x-python",
   "name": "python",
   "nbconvert_exporter": "python",
   "pygments_lexer": "ipython3",
   "version": "3.7.8"
  }
 },
 "nbformat": 4,
 "nbformat_minor": 4
}
