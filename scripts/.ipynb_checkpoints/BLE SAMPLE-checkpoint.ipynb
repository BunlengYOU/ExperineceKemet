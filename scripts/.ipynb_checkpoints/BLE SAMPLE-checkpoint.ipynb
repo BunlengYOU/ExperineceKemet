{
 "cells": [
  {
   "cell_type": "markdown",
   "metadata": {},
   "source": [
    "# using gattlib"
   ]
  },
  {
   "cell_type": "code",
   "execution_count": 1,
   "metadata": {},
   "outputs": [],
   "source": [
    "import sys\n",
    "from gattlib import GATTRequester\n",
    "st_addres = \"D5:C9:57:C2:25:7B\""
   ]
  },
  {
   "cell_type": "code",
   "execution_count": 2,
   "metadata": {},
   "outputs": [],
   "source": [
    "requester = GATTRequester(st_addres, False)\n",
    "requester.connect(True, channel_type=\"random\")"
   ]
  },
  {
   "cell_type": "code",
   "execution_count": 3,
   "metadata": {},
   "outputs": [
    {
     "data": {
      "text/plain": [
       "[{'uuid': '00001801-0000-1000-8000-00805f9b34fb', 'start': 1, 'end': 4},\n",
       " {'uuid': '00001800-0000-1000-8000-00805f9b34fb', 'start': 5, 'end': 11},\n",
       " {'uuid': '00000000-0001-11e1-9ab4-0002a5d5c51b', 'start': 12, 'end': 18},\n",
       " {'uuid': '00000000-0002-11e1-9ab4-0002a5d5c51b', 'start': 28, 'end': 31}]"
      ]
     },
     "execution_count": 3,
     "metadata": {},
     "output_type": "execute_result"
    }
   ],
   "source": [
    "requester.discover_primary()"
   ]
  },
  {
   "cell_type": "code",
   "execution_count": 4,
   "metadata": {},
   "outputs": [
    {
     "data": {
      "text/plain": [
       "[{'uuid': '00002a05-0000-1000-8000-00805f9b34fb',\n",
       "  'handle': 2,\n",
       "  'properties': 32,\n",
       "  'value_handle': 3},\n",
       " {'uuid': '00002a00-0000-1000-8000-00805f9b34fb',\n",
       "  'handle': 6,\n",
       "  'properties': 78,\n",
       "  'value_handle': 7},\n",
       " {'uuid': '00002a01-0000-1000-8000-00805f9b34fb',\n",
       "  'handle': 8,\n",
       "  'properties': 78,\n",
       "  'value_handle': 9},\n",
       " {'uuid': '00002a04-0000-1000-8000-00805f9b34fb',\n",
       "  'handle': 10,\n",
       "  'properties': 2,\n",
       "  'value_handle': 11},\n",
       " {'uuid': '00140000-0001-11e1-ac36-0002a5d5c51b',\n",
       "  'handle': 13,\n",
       "  'properties': 18,\n",
       "  'value_handle': 14},\n",
       " {'uuid': '00e00000-0001-11e1-ac36-0002a5d5c51b',\n",
       "  'handle': 16,\n",
       "  'properties': 16,\n",
       "  'value_handle': 17},\n",
       " {'uuid': '00000100-0001-11e1-ac36-0002a5d5c51b',\n",
       "  'handle': 29,\n",
       "  'properties': 16,\n",
       "  'value_handle': 30}]"
      ]
     },
     "execution_count": 4,
     "metadata": {},
     "output_type": "execute_result"
    }
   ],
   "source": [
    "characteristics = requester.discover_characteristics()\n",
    "characteristics"
   ]
  },
  {
   "cell_type": "markdown",
   "metadata": {},
   "source": [
    "![alt text](Properties.png \"Title\")"
   ]
  },
  {
   "cell_type": "code",
   "execution_count": 5,
   "metadata": {
    "scrolled": true
   },
   "outputs": [
    {
     "data": {
      "text/plain": [
       "'0b10000'"
      ]
     },
     "execution_count": 5,
     "metadata": {},
     "output_type": "execute_result"
    }
   ],
   "source": [
    "bin(0x10)"
   ]
  },
  {
   "cell_type": "code",
   "execution_count": 6,
   "metadata": {},
   "outputs": [
    {
     "data": {
      "text/plain": [
       "16"
      ]
     },
     "execution_count": 6,
     "metadata": {},
     "output_type": "execute_result"
    }
   ],
   "source": [
    "0x0010"
   ]
  },
  {
   "cell_type": "code",
   "execution_count": 7,
   "metadata": {},
   "outputs": [],
   "source": [
    "def print_handle_14(d):\n",
    "    print('d:', [hex(di) for di in d])\n",
    "    tick = int.from_bytes(d[:2], \"little\")\n",
    "    print(\"tick:\",tick)\n",
    "    pressure = float(int.from_bytes(d[2:6], \"little\"))/100\n",
    "    print(\"pressure:\",pressure)\n",
    "    temprature = float(int.from_bytes(d[6:], \"little\"))/10.0\n",
    "    print(\"temprature:\",temprature)"
   ]
  },
  {
   "cell_type": "code",
   "execution_count": 8,
   "metadata": {},
   "outputs": [
    {
     "name": "stdout",
     "output_type": "stream",
     "text": [
      "d: ['0xb8', '0xd6', '0xbc', '0xab', '0x1', '0x0', '0xe', '0x1']\n",
      "tick: 54968\n",
      "pressure: 1095.0\n",
      "temprature: 27.0\n"
     ]
    }
   ],
   "source": [
    "# read data diraectly\n",
    "data = requester.read_by_handle(0x000e)\n",
    "print_handle_14(data[0])"
   ]
  },
  {
   "cell_type": "code",
   "execution_count": 9,
   "metadata": {},
   "outputs": [
    {
     "data": {
      "text/plain": [
       "[b'\\x13']"
      ]
     },
     "execution_count": 9,
     "metadata": {},
     "output_type": "execute_result"
    }
   ],
   "source": [
    "# start notification\n",
    "requester.write_by_handle(15, b\"\\x01\\x00\")"
   ]
  },
  {
   "cell_type": "code",
   "execution_count": 10,
   "metadata": {},
   "outputs": [
    {
     "data": {
      "text/plain": [
       "[b'\\x13']"
      ]
     },
     "execution_count": 10,
     "metadata": {},
     "output_type": "execute_result"
    }
   ],
   "source": [
    "# stop notification\n",
    "requester.write_by_handle(15, b\"\\x00\\x00\")"
   ]
  },
  {
   "cell_type": "code",
   "execution_count": 11,
   "metadata": {},
   "outputs": [],
   "source": [
    "requester.disconnect()\n",
    "del requester"
   ]
  },
  {
   "cell_type": "markdown",
   "metadata": {},
   "source": [
    "## using notifications to read data"
   ]
  },
  {
   "cell_type": "code",
   "execution_count": 12,
   "metadata": {},
   "outputs": [
    {
     "name": "stdout",
     "output_type": "stream",
     "text": [
      "Connecting... OK!\n",
      "\n",
      "This is a bit tricky. You need to make your device to send\n",
      "some notification. I'll wait...\n",
      "-------------------------------------------\n",
      "- notification on handle: 14\n",
      "b'\\x1b\\x0e\\x001\\xe1\\xec\\xa3\\x01\\x00,\\x01'\n",
      "d: ['0x31', '0xe1', '0xec', '0xa3', '0x1', '0x0', '0x2c', '0x1']\n",
      "tick: 57649\n",
      "pressure: 1075.0\n",
      "temprature: 30.0\n",
      "-------------------------------------------\n",
      "- notification on handle: 14\n",
      "b'\\x1b\\x0e\\x00\\xaf\\xe1\\x94\\x88\\x01\\x00\"\\x01'\n",
      "d: ['0xaf', '0xe1', '0x94', '0x88', '0x1', '0x0', '0x22', '0x1']\n",
      "tick: 57775\n",
      "pressure: 1005.0\n",
      "temprature: 29.0\n",
      "-------------------------------------------\n",
      "- notification on handle: 14\n",
      "b'\\x1b\\x0e\\x00.\\xe2\\xf8\\x88\\x01\\x00\"\\x01'\n",
      "d: ['0x2e', '0xe2', '0xf8', '0x88', '0x1', '0x0', '0x22', '0x1']\n",
      "tick: 57902\n",
      "pressure: 1006.0\n",
      "temprature: 29.0\n",
      "-------------------------------------------\n",
      "- notification on handle: 14\n",
      "b'\\x1b\\x0e\\x00\\xac\\xe2\\xe0\\x8c\\x01\\x00\\x18\\x01'\n",
      "d: ['0xac', '0xe2', '0xe0', '0x8c', '0x1', '0x0', '0x18', '0x1']\n",
      "tick: 58028\n",
      "pressure: 1016.0\n",
      "temprature: 28.0\n",
      "-------------------------------------------\n",
      "- notification on handle: 14\n",
      "b'\\x1b\\x0e\\x00*\\xe3\\xa8\\x8d\\x01\\x00\\x18\\x01'\n",
      "d: ['0x2a', '0xe3', '0xa8', '0x8d', '0x1', '0x0', '0x18', '0x1']\n",
      "tick: 58154\n",
      "pressure: 1018.0\n",
      "temprature: 28.0\n",
      "-------------------------------------------\n",
      "- notification on handle: 14\n",
      "b'\\x1b\\x0e\\x00\\xa8\\xe3\\x90\\x91\\x01\\x00\\x0e\\x01'\n",
      "d: ['0xa8', '0xe3', '0x90', '0x91', '0x1', '0x0', '0xe', '0x1']\n",
      "tick: 58280\n",
      "pressure: 1028.0\n",
      "temprature: 27.0\n",
      "-------------------------------------------\n",
      "- notification on handle: 14\n",
      "b\"\\x1b\\x0e\\x00'\\xe4\\xf4\\x91\\x01\\x00\\x0e\\x01\"\n",
      "d: ['0x27', '0xe4', '0xf4', '0x91', '0x1', '0x0', '0xe', '0x1']\n",
      "tick: 58407\n",
      "pressure: 1029.0\n",
      "temprature: 27.0\n",
      "-------------------------------------------\n",
      "- notification on handle: 14\n",
      "b'\\x1b\\x0e\\x00\\xa5\\xe4\\xdc\\x95\\x01\\x006\\x01'\n",
      "d: ['0xa5', '0xe4', '0xdc', '0x95', '0x1', '0x0', '0x36', '0x1']\n",
      "tick: 58533\n",
      "pressure: 1039.0\n",
      "temprature: 31.0\n",
      "-------------------------------------------\n",
      "- notification on handle: 14\n",
      "b'\\x1b\\x0e\\x00#\\xe5\\xa4\\x96\\x01\\x006\\x01'\n",
      "d: ['0x23', '0xe5', '0xa4', '0x96', '0x1', '0x0', '0x36', '0x1']\n",
      "tick: 58659\n",
      "pressure: 1041.0\n",
      "temprature: 31.0\n",
      "-------------------------------------------\n",
      "- notification on handle: 14\n",
      "b'\\x1b\\x0e\\x00\\xa1\\xe5\\x8c\\x9a\\x01\\x00,\\x01'\n",
      "d: ['0xa1', '0xe5', '0x8c', '0x9a', '0x1', '0x0', '0x2c', '0x1']\n",
      "tick: 58785\n",
      "pressure: 1051.0\n",
      "temprature: 30.0\n",
      "-------------------------------------------\n",
      "- notification on handle: 14\n",
      "b'\\x1b\\x0e\\x00\\x1f\\xe6t\\x9e\\x01\\x00\"\\x01'\n",
      "d: ['0x1f', '0xe6', '0x74', '0x9e', '0x1', '0x0', '0x22', '0x1']\n",
      "tick: 58911\n",
      "pressure: 1061.0\n",
      "temprature: 29.0\n"
     ]
    }
   ],
   "source": [
    "# read using notification on handle 0x0e (or 14)\n",
    "from threading import Event\n",
    "\n",
    "\n",
    "class Requester(GATTRequester):\n",
    "    def __init__(self, wakeup, *args):\n",
    "        GATTRequester.__init__(self, *args)\n",
    "        self.wakeup = wakeup\n",
    "        self.counter = 0\n",
    "\n",
    "    def on_notification(self, handle, data):\n",
    "        print(\"-------------------------------------------\")\n",
    "        print(\"- notification on handle: {}\".format(handle))\n",
    "        print(data)\n",
    "        print_handle_14(data[-8:])\n",
    "        # wait for 10 notifications\n",
    "        self.counter = self.counter + 1\n",
    "        if self.counter > 10:\n",
    "            self.wakeup.set()\n",
    "\n",
    "\n",
    "class ReceiveNotification(object):\n",
    "    def __init__(self, address):\n",
    "        self.received = Event()\n",
    "        self.requester = Requester(self.received, address, False)\n",
    "        self.connect()\n",
    "    \n",
    "    def main(self):\n",
    "        self.wait_notification()\n",
    "\n",
    "    def connect(self):\n",
    "        print(\"Connecting...\", end=' ')\n",
    "        sys.stdout.flush()\n",
    "\n",
    "        self.requester.connect(True, channel_type=\"random\")\n",
    "        print(\"OK!\")\n",
    "\n",
    "    def wait_notification(self):\n",
    "        self.requester.write_by_handle(14+1, b\"\\x01\\x00\")\n",
    "        print(\"\\nThis is a bit tricky. You need to make your device to send\\n\"\n",
    "              \"some notification. I'll wait...\")\n",
    "        self.received.wait()\n",
    "        # turn off notification\n",
    "        self.requester.write_by_handle(14+1, b\"\\x00\\x00\")\n",
    "\n",
    "p = ReceiveNotification(st_addres)\n",
    "p.main()"
   ]
  },
  {
   "cell_type": "code",
   "execution_count": 13,
   "metadata": {},
   "outputs": [],
   "source": [
    "# p.requester.write_by_handle(14 + 1, b\"\\x00\\x00\")\n",
    "p.requester.disconnect()"
   ]
  },
  {
   "cell_type": "markdown",
   "metadata": {},
   "source": [
    "# using bluepy"
   ]
  },
  {
   "cell_type": "code",
   "execution_count": 14,
   "metadata": {},
   "outputs": [
    {
     "data": {
      "text/plain": [
       "<bluepy.btle.Peripheral at 0x7f98a8233850>"
      ]
     },
     "execution_count": 14,
     "metadata": {},
     "output_type": "execute_result"
    }
   ],
   "source": [
    "from bluepy import btle\n",
    "st_addres = \"D5:C9:57:C2:25:7B\"\n",
    "\n",
    "class MyDelegate(btle.DefaultDelegate):\n",
    "    def __init__(self):\n",
    "        btle.DefaultDelegate.__init__(self)\n",
    "\n",
    "    def handleNotification(self, cHandle, data):\n",
    "        print(\"A notification was received: {}\".format(data))\n",
    "\n",
    "\n",
    "p = btle.Peripheral(st_addres, btle.ADDR_TYPE_RANDOM)\n",
    "p.setDelegate( MyDelegate() )"
   ]
  },
  {
   "cell_type": "code",
   "execution_count": 18,
   "metadata": {
    "scrolled": false
   },
   "outputs": [
    {
     "name": "stdout",
     "output_type": "stream",
     "text": [
      "A notification was received: b't0E\\xf6\\xf9\\x01\\xfd\\xfc'\n",
      "A notification was received: b'\\xf20\\xd6\\xf5\\xa2\\x02\\x7f\\xfc'\n",
      "A notification was received: b'p1O\\xf5!\\x03\\xc4\\xfb'\n",
      "A notification was received: b'\\xef1\\xdb\\xf4\\xb2\\x03]\\xfb'\n",
      "A notification was received: b'm2K\\xf4f\\x04\\xb3\\xfa'\n",
      "A notification was received: b'\\xeb2\\xd0\\xf3\\xd6\\x04\\xec\\xf9'\n"
     ]
    },
    {
     "data": {
      "text/plain": [
       "{'rsp': ['wr']}"
      ]
     },
     "execution_count": 18,
     "metadata": {},
     "output_type": "execute_result"
    }
   ],
   "source": [
    "# Setup to turn notifications on, e.g.\n",
    "svc = p.getServiceByUUID('00000000-0002-11e1-9ab4-0002a5d5c51b')\n",
    "ch = svc.getCharacteristics()[0]\n",
    "\n",
    "# enable notification\n",
    "p.writeCharacteristic(ch.valHandle+1, b\"\\x01\\x00\")\n",
    "\n",
    "counter = 0\n",
    "\n",
    "while True:\n",
    "    if p.waitForNotifications(1.0):\n",
    "        counter += 1\n",
    "        # wait for five notification\n",
    "        if counter > 5:\n",
    "            break\n",
    "\n",
    "# disable notification\n",
    "p.writeCharacteristic(ch.valHandle+1, b\"\\x00\\x00\")"
   ]
  },
  {
   "cell_type": "code",
   "execution_count": 19,
   "metadata": {},
   "outputs": [
    {
     "data": {
      "text/plain": [
       "17"
      ]
     },
     "execution_count": 19,
     "metadata": {},
     "output_type": "execute_result"
    }
   ],
   "source": [
    "char = p.getCharacteristics(uuid = '00e00000-0001-11e1-ac36-0002a5d5c51b')[0]\n",
    "char.propertiesToString()\n",
    "char.getHandle()"
   ]
  },
  {
   "cell_type": "code",
   "execution_count": 20,
   "metadata": {},
   "outputs": [
    {
     "data": {
      "text/plain": [
       "['00000000-0002-11e1-9ab4-0002a5d5c51b']"
      ]
     },
     "execution_count": 20,
     "metadata": {},
     "output_type": "execute_result"
    }
   ],
   "source": [
    "srvs = p.getServices()\n",
    "srvs = list(srvs)\n",
    "[srv.uuid.getCommonName() for srv in srvs]"
   ]
  },
  {
   "cell_type": "code",
   "execution_count": 21,
   "metadata": {},
   "outputs": [
    {
     "data": {
      "text/plain": [
       "['00000000-0002-11e1-9ab4-0002a5d5c51b']"
      ]
     },
     "execution_count": 21,
     "metadata": {},
     "output_type": "execute_result"
    }
   ],
   "source": [
    "chars = p.getCharacteristics()\n",
    "chars = list(chars)\n",
    "[srv.uuid.getCommonName() for srv in srvs]"
   ]
  },
  {
   "cell_type": "code",
   "execution_count": 22,
   "metadata": {},
   "outputs": [],
   "source": [
    "p.disconnect()"
   ]
  }
 ],
 "metadata": {
  "kernelspec": {
   "display_name": "Python 3",
   "language": "python",
   "name": "python3"
  },
  "language_info": {
   "codemirror_mode": {
    "name": "ipython",
    "version": 3
   },
   "file_extension": ".py",
   "mimetype": "text/x-python",
   "name": "python",
   "nbconvert_exporter": "python",
   "pygments_lexer": "ipython3",
   "version": "3.7.8"
  }
 },
 "nbformat": 4,
 "nbformat_minor": 4
}
