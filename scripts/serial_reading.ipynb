{
 "cells": [
  {
   "cell_type": "markdown",
   "metadata": {},
   "source": [
    "# Stream the raw measurements and plot them"
   ]
  },
  {
   "cell_type": "code",
   "execution_count": null,
   "metadata": {},
   "outputs": [],
   "source": [
    "import serial\n",
    "import struct\n",
    "import numpy as np\n",
    "serial_port = '/dev/ttyACM0'\n",
    "ADC_BUFFER_LENGTH = 4048\n",
    "ADC_BUFFER_LENGTH = 1"
   ]
  },
  {
   "cell_type": "code",
   "execution_count": null,
   "metadata": {},
   "outputs": [],
   "source": [
    "def cal_fft(values):\n",
    "    values = np.array(values, dtype = np.float)\n",
    "    values = (values - 32767) * (3.3 / 65535.0)\n",
    "    return np.absolute(np.fft.rfft(values))[1:]\n",
    "\n",
    "def get_freqs():\n",
    "    sampling_frequency = 1000\n",
    "    signal_length = ADC_BUFFER_LENGTH\n",
    "    return np.arange(ADC_BUFFER_LENGTH/2) * sampling_frequency / signal_length"
   ]
  },
  {
   "cell_type": "code",
   "execution_count": null,
   "metadata": {},
   "outputs": [],
   "source": [
    "from bokeh.plotting import figure, output_notebook, output_file, show\n",
    "from bokeh.models import ColumnDataSource, Range1d\n",
    "from bokeh.models.tools import HoverTool\n",
    "from bokeh.io import output_notebook, show, push_notebook\n",
    "output_notebook()\n",
    "# output_file(\"lines.html\")\n",
    "\n",
    "hTool = HoverTool(\n",
    "    tooltips = [\n",
    "        (\"frequency\", \"@time\"),\n",
    "        (\"value\", \"@value\"),\n",
    "    ],\n",
    "    mode='vline'\n",
    ")"
   ]
  },
  {
   "cell_type": "code",
   "execution_count": null,
   "metadata": {
    "scrolled": false
   },
   "outputs": [],
   "source": [
    "from threading import Thread\n",
    "\n",
    "stop_threads = False\n",
    "\n",
    "# clean serial port input buffer (ignore previous data)\n",
    "with serial.Serial(serial_port, 115200) as ser:\n",
    "    ser.flushInput()\n",
    "    ser.write(1)\n",
    "    \n",
    "my_figure = figure(plot_width=900, plot_height=500)\n",
    "my_figure.y_range=Range1d(0, (2**16)-1)\n",
    "my_figure.add_tools(hTool)\n",
    "source = ColumnDataSource(data=dict(time=[], value=[]))\n",
    "line = my_figure.line(x='time' , y='value', source = source, legend_label=\"Temp.\", line_width=2)\n",
    "\n",
    "handle = show(my_figure, notebook_handle=True)\n",
    "\n",
    "def blocking_callback(id, stop):\n",
    "    new_data=dict(time=[], value=[])\n",
    "\n",
    "    step = 0\n",
    "    step_size = 0.1  # increment for increasing step\n",
    "    period = .001  # in seconds (simulate waiting for new data)\n",
    "    n_show = ADC_BUFFER_LENGTH * 5  # number of points to keep and show\n",
    "    last_timestamp = 0\n",
    "    freqs = get_freqs()\n",
    "    \n",
    "    with serial.Serial(serial_port, 115200) as ser:\n",
    "        while True:\n",
    "            byts = ser.read(ADC_BUFFER_LENGTH * 2)\n",
    "            \n",
    "            if stop():\n",
    "                ser.write(0)\n",
    "                print(\"exit\")\n",
    "                break\n",
    "\n",
    "            values = struct.unpack('{}H'.format(ADC_BUFFER_LENGTH), byts)\n",
    "            \n",
    "            timestamp = np.linspace(last_timestamp, last_timestamp + (period*ADC_BUFFER_LENGTH), ADC_BUFFER_LENGTH, endpoint=False)\n",
    "            last_timestamp = timestamp[-1]+period\n",
    "            \n",
    "#             fft = cal_fft(values)\n",
    "#             source.data = dict(\n",
    "#                 time = freqs,\n",
    "#                 value = fft\n",
    "#             )\n",
    "            new_data['time'] = timestamp\n",
    "            new_data['value'] = values\n",
    "            step = step + step_size\n",
    "            source.stream(new_data, n_show)\n",
    "            \n",
    "            push_notebook(handle=handle)\n",
    "            \n",
    "            \n",
    "\n",
    "thread = Thread(target=blocking_callback, args=(id, lambda: stop_threads))\n",
    "thread.start()"
   ]
  },
  {
   "cell_type": "code",
   "execution_count": null,
   "metadata": {
    "scrolled": false
   },
   "outputs": [],
   "source": [
    "# you might also want to stop the thread\n",
    "stop_threads=True\n",
    "del thread"
   ]
  }
 ],
 "metadata": {
  "kernelspec": {
   "display_name": "Python 3",
   "language": "python",
   "name": "python3"
  },
  "language_info": {
   "codemirror_mode": {
    "name": "ipython",
    "version": 3
   },
   "file_extension": ".py",
   "mimetype": "text/x-python",
   "name": "python",
   "nbconvert_exporter": "python",
   "pygments_lexer": "ipython3",
   "version": "3.7.9"
  }
 },
 "nbformat": 4,
 "nbformat_minor": 4
}
