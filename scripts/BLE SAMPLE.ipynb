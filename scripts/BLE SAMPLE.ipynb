{
 "cells": [
  {
   "cell_type": "markdown",
   "metadata": {},
   "source": [
    "# using gattlib"
   ]
  },
  {
   "cell_type": "code",
   "execution_count": null,
   "metadata": {},
   "outputs": [],
   "source": [
    "import sys\n",
    "from gattlib import GATTRequester\n",
    "st_addres = \"D5:C9:57:C2:25:7B\""
   ]
  },
  {
   "cell_type": "code",
   "execution_count": null,
   "metadata": {},
   "outputs": [],
   "source": [
    "requester = GATTRequester(st_addres, False)\n",
    "requester.connect(True, channel_type=\"random\")"
   ]
  },
  {
   "cell_type": "code",
   "execution_count": null,
   "metadata": {},
   "outputs": [],
   "source": [
    "requester.discover_primary()"
   ]
  },
  {
   "cell_type": "code",
   "execution_count": null,
   "metadata": {},
   "outputs": [],
   "source": [
    "characteristics = requester.discover_characteristics()\n",
    "characteristics"
   ]
  },
  {
   "cell_type": "markdown",
   "metadata": {},
   "source": [
    "![alt text](Properties.png \"Title\")"
   ]
  },
  {
   "cell_type": "code",
   "execution_count": null,
   "metadata": {},
   "outputs": [],
   "source": [
    "def gen(x):\n",
    "    while x:\n",
    "        yield bin(x % 16)[2:].zfill(4)\n",
    "        x >>= 4\n",
    "\n",
    "def nibble(x):\n",
    "    return '0b'+'_'.join(list(gen(x))[::-1])"
   ]
  },
  {
   "cell_type": "code",
   "execution_count": null,
   "metadata": {
    "scrolled": false
   },
   "outputs": [],
   "source": [
    "nibble(0x00140000)"
   ]
  },
  {
   "cell_type": "code",
   "execution_count": null,
   "metadata": {},
   "outputs": [],
   "source": [
    "nibble(0x00e00000)"
   ]
  },
  {
   "cell_type": "code",
   "execution_count": null,
   "metadata": {},
   "outputs": [],
   "source": [
    "0x0010"
   ]
  },
  {
   "cell_type": "code",
   "execution_count": null,
   "metadata": {},
   "outputs": [],
   "source": [
    "def print_handle_14(d):\n",
    "    print('d:', [hex(di) for di in d])\n",
    "    tick = int.from_bytes(d[:2], \"little\")\n",
    "    print(\"tick:\",tick)\n",
    "    pressure = float(int.from_bytes(d[2:6], \"little\"))/100\n",
    "    print(\"pressure:\",pressure)\n",
    "    temprature = float(int.from_bytes(d[6:], \"little\"))/10.0\n",
    "    print(\"temprature:\",temprature)"
   ]
  },
  {
   "cell_type": "code",
   "execution_count": null,
   "metadata": {},
   "outputs": [],
   "source": [
    "# read data diraectly\n",
    "data = requester.read_by_handle(0x000e)\n",
    "print_handle_14(data[0])"
   ]
  },
  {
   "cell_type": "code",
   "execution_count": null,
   "metadata": {},
   "outputs": [],
   "source": [
    "# start notification\n",
    "requester.write_by_handle(15, b\"\\x01\\x00\")"
   ]
  },
  {
   "cell_type": "code",
   "execution_count": null,
   "metadata": {},
   "outputs": [],
   "source": [
    "# stop notification\n",
    "requester.write_by_handle(15, b\"\\x00\\x00\")"
   ]
  },
  {
   "cell_type": "code",
   "execution_count": null,
   "metadata": {},
   "outputs": [],
   "source": [
    "requester.disconnect()\n",
    "del requester"
   ]
  },
  {
   "cell_type": "markdown",
   "metadata": {},
   "source": [
    "## using notifications to read data"
   ]
  },
  {
   "cell_type": "code",
   "execution_count": null,
   "metadata": {},
   "outputs": [],
   "source": [
    "# read using notification on handle 0x0e (or 14)\n",
    "from threading import Event\n",
    "\n",
    "\n",
    "class Requester(GATTRequester):\n",
    "    def __init__(self, wakeup, *args):\n",
    "        GATTRequester.__init__(self, *args)\n",
    "        self.wakeup = wakeup\n",
    "        self.counter = 0\n",
    "\n",
    "    def on_notification(self, handle, data):\n",
    "        print(\"-------------------------------------------\")\n",
    "        print(\"- notification on handle: {}\".format(handle))\n",
    "        print(data)\n",
    "        print_handle_14(data[-8:])\n",
    "        # wait for 10 notifications\n",
    "        self.counter = self.counter + 1\n",
    "        if self.counter > 10:\n",
    "            self.wakeup.set()\n",
    "\n",
    "\n",
    "class ReceiveNotification(object):\n",
    "    def __init__(self, address):\n",
    "        self.received = Event()\n",
    "        self.requester = Requester(self.received, address, False)\n",
    "        self.connect()\n",
    "    \n",
    "    def main(self):\n",
    "        self.wait_notification()\n",
    "\n",
    "    def connect(self):\n",
    "        print(\"Connecting...\", end=' ')\n",
    "        sys.stdout.flush()\n",
    "\n",
    "        self.requester.connect(True, channel_type=\"random\")\n",
    "        print(\"OK!\")\n",
    "\n",
    "    def wait_notification(self):\n",
    "        self.requester.write_by_handle(14+1, b\"\\x01\\x00\")\n",
    "        print(\"\\nThis is a bit tricky. You need to make your device to send\\n\"\n",
    "              \"some notification. I'll wait...\")\n",
    "        self.received.wait()\n",
    "        # turn off notification\n",
    "        self.requester.write_by_handle(14+1, b\"\\x00\\x00\")\n",
    "\n",
    "p = ReceiveNotification(st_addres)\n",
    "p.main()"
   ]
  },
  {
   "cell_type": "code",
   "execution_count": null,
   "metadata": {},
   "outputs": [],
   "source": [
    "# p.requester.write_by_handle(14 + 1, b\"\\x00\\x00\")\n",
    "p.requester.disconnect()"
   ]
  },
  {
   "cell_type": "markdown",
   "metadata": {},
   "source": [
    "# using bluepy"
   ]
  },
  {
   "cell_type": "code",
   "execution_count": null,
   "metadata": {},
   "outputs": [],
   "source": [
    "from bluepy import btle\n",
    "st_addres = \"D5:C9:57:C2:25:7B\"\n",
    "\n",
    "class MyDelegate(btle.DefaultDelegate):\n",
    "    def __init__(self):\n",
    "        btle.DefaultDelegate.__init__(self)\n",
    "\n",
    "    def handleNotification(self, cHandle, data):\n",
    "        print(\"A notification was received: {}\".format(data))\n",
    "\n",
    "\n",
    "p = btle.Peripheral(st_addres, btle.ADDR_TYPE_RANDOM)\n",
    "p.setDelegate( MyDelegate() )"
   ]
  },
  {
   "cell_type": "code",
   "execution_count": null,
   "metadata": {
    "scrolled": false
   },
   "outputs": [],
   "source": [
    "# Setup to turn notifications on, e.g.\n",
    "svc = p.getServiceByUUID('00000000-0002-11e1-9ab4-0002a5d5c51b')\n",
    "ch = svc.getCharacteristics()[0]\n",
    "\n",
    "# enable notification\n",
    "p.writeCharacteristic(ch.valHandle+1, b\"\\x01\\x00\")\n",
    "\n",
    "counter = 0\n",
    "\n",
    "while True:\n",
    "    if p.waitForNotifications(1.0):\n",
    "        counter += 1\n",
    "        # wait for five notification\n",
    "        if counter > 5:\n",
    "            break\n",
    "\n",
    "# disable notification\n",
    "p.writeCharacteristic(ch.valHandle+1, b\"\\x00\\x00\")"
   ]
  },
  {
   "cell_type": "code",
   "execution_count": null,
   "metadata": {},
   "outputs": [],
   "source": [
    "char = p.getCharacteristics(uuid = '00e00000-0001-11e1-ac36-0002a5d5c51b')[0]\n",
    "char.propertiesToString()\n",
    "char.getHandle()"
   ]
  },
  {
   "cell_type": "code",
   "execution_count": null,
   "metadata": {},
   "outputs": [],
   "source": [
    "srvs = p.getServices()\n",
    "srvs = list(srvs)\n",
    "[srv.uuid.getCommonName() for srv in srvs]"
   ]
  },
  {
   "cell_type": "code",
   "execution_count": null,
   "metadata": {},
   "outputs": [],
   "source": [
    "chars = p.getCharacteristics()\n",
    "chars = list(chars)\n",
    "[srv.uuid.getCommonName() for srv in srvs]"
   ]
  },
  {
   "cell_type": "code",
   "execution_count": null,
   "metadata": {},
   "outputs": [],
   "source": [
    "p.disconnect()"
   ]
  },
  {
   "cell_type": "markdown",
   "metadata": {},
   "source": [
    "# using blue_st_sdk"
   ]
  },
  {
   "cell_type": "code",
   "execution_count": null,
   "metadata": {},
   "outputs": [],
   "source": [
    "import sys\n",
    "import os\n",
    "import time\n",
    "from abc import abstractmethod\n",
    "\n",
    "from blue_st_sdk.manager import Manager\n",
    "from blue_st_sdk.manager import ManagerListener\n",
    "from blue_st_sdk.node import NodeListener\n",
    "from blue_st_sdk.feature import FeatureListener\n",
    "from blue_st_sdk.features.audio.adpcm.feature_audio_adpcm import FeatureAudioADPCM\n",
    "from blue_st_sdk.features.audio.adpcm.feature_audio_adpcm_sync import FeatureAudioADPCMSync"
   ]
  }
 ],
 "metadata": {
  "kernelspec": {
   "display_name": "Python 3",
   "language": "python",
   "name": "python3"
  },
  "language_info": {
   "codemirror_mode": {
    "name": "ipython",
    "version": 3
   },
   "file_extension": ".py",
   "mimetype": "text/x-python",
   "name": "python",
   "nbconvert_exporter": "python",
   "pygments_lexer": "ipython3",
   "version": "3.7.8"
  }
 },
 "nbformat": 4,
 "nbformat_minor": 4
}
